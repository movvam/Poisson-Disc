{
 "cells": [
  {
   "cell_type": "code",
   "execution_count": 1,
   "metadata": {},
   "outputs": [],
   "source": [
    "from pyntcloud import PyntCloud\n",
    "from pyntcloud.geometry.areas import *\n",
    "from poisson_utils import *\n",
    "import numpy as np\n",
    "import pandas as pd\n",
    "\n",
    "from rotations import *\n",
    "from sklearn import preprocessing\n",
    "import matplotlib.pyplot as plt"
   ]
  },
  {
   "cell_type": "code",
   "execution_count": null,
   "metadata": {},
   "outputs": [],
   "source": [
    "\n"
   ]
  },
  {
   "cell_type": "code",
   "execution_count": null,
   "metadata": {},
   "outputs": [
    {
     "name": "stdout",
     "output_type": "stream",
     "text": [
      "[-30.5      -42.527504 -12.25    ] [-30.       -41.027504 -12.25    ] [-30.       -42.527504 -12.25    ] 5 0.04\n",
      "(0.31847118348790604, 0.8934788314043394) True\n"
     ]
    }
   ],
   "source": [
    "\n",
    "#diamond = PyntCloud.from_file('cube.off')\n",
    "diamond = PyntCloud.from_file('bed_0001.off')\n",
    "\n",
    "v1, v2, v3 = diamond.get_mesh_vertices(False, False)\n",
    "\n",
    "v1_xyz = v1[:, :3]\n",
    "v2_xyz = v2[:, :3]\n",
    "v3_xyz = v3[:, :3]\n",
    "\n",
    "areas = triangle_area_multi(v1_xyz, v2_xyz, v3_xyz)\n",
    "probabilities = areas / np.sum(areas)\n",
    "\n",
    "#print(len(v1_xyz))\n",
    "\n",
    "\n",
    "#for i in range(1):\n",
    "v1 = v1_xyz[41] #looping through each face\n",
    "v2 = v2_xyz[41]\n",
    "v3 = v3_xyz[41]\n",
    "\n",
    "print(v1,v2,v3,5,.4 )\n",
    "\n",
    "points, vertices = poisson_sample(v1,v2,v3)\n",
    "print(len(vertices))\n",
    "\n",
    "plt.scatter(*zip(*points), color='g', alpha=0.6, lw=0)\n",
    "plt.scatter(*zip(*vertices), color='r', alpha=0.6, lw=0)\n",
    "#plt.xlim(-0.25, width+0.25)\n",
    "#plt.ylim(-0.25, height+0.25)\n",
    "plt.axis('on')\n",
    "plt.show()"
   ]
  },
  {
   "cell_type": "code",
   "execution_count": null,
   "metadata": {},
   "outputs": [],
   "source": [
    "print(*vertices, points[5])"
   ]
  },
  {
   "cell_type": "code",
   "execution_count": null,
   "metadata": {},
   "outputs": [],
   "source": []
  },
  {
   "cell_type": "code",
   "execution_count": null,
   "metadata": {},
   "outputs": [],
   "source": []
  },
  {
   "cell_type": "code",
   "execution_count": null,
   "metadata": {},
   "outputs": [],
   "source": []
  },
  {
   "cell_type": "code",
   "execution_count": null,
   "metadata": {},
   "outputs": [],
   "source": []
  }
 ],
 "metadata": {
  "kernelspec": {
   "display_name": "Python 3",
   "language": "python",
   "name": "python3"
  },
  "language_info": {
   "codemirror_mode": {
    "name": "ipython",
    "version": 3
   },
   "file_extension": ".py",
   "mimetype": "text/x-python",
   "name": "python",
   "nbconvert_exporter": "python",
   "pygments_lexer": "ipython3",
   "version": "3.6.3"
  }
 },
 "nbformat": 4,
 "nbformat_minor": 2
}
