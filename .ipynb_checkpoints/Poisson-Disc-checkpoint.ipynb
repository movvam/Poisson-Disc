{
 "cells": [
  {
   "cell_type": "code",
   "execution_count": 1,
   "metadata": {},
   "outputs": [],
   "source": [
    "from pyntcloud import PyntCloud\n",
    "from pyntcloud.geometry.areas import *\n",
    "\n",
    "import numpy as np\n",
    "import pandas as pd\n",
    "\n",
    "from rotations import *\n",
    "from sklearn import preprocessing"
   ]
  },
  {
   "cell_type": "code",
   "execution_count": 2,
   "metadata": {},
   "outputs": [],
   "source": [
    "\n",
    "#diamond = PyntCloud.from_file('cube.off')\n",
    "diamond = PyntCloud.from_file('bed_0001.off')\n",
    "\n",
    "v1, v2, v3 = diamond.get_mesh_vertices(False, False)\n",
    "\n",
    "v1_xyz = v1[:, :3]\n",
    "v2_xyz = v2[:, :3]\n",
    "v3_xyz = v3[:, :3]\n",
    "\n",
    "areas = triangle_area_multi(v1_xyz, v2_xyz, v3_xyz)\n",
    "probabilities = areas / np.sum(areas)\n",
    "\n",
    "v1 = v1_xyz[4] #Choosing an arbitrary face to test on\n",
    "v2 = v2_xyz[4]\n",
    "v3 = v3_xyz[4]\n",
    "\n",
    "#choosing a starting point on our face\n",
    "u = np.random.rand(1, 1)\n",
    "v = (np.random.rand(1, 1)) * (1-u)\n",
    "\n",
    "result = pd.DataFrame()\n",
    "\n",
    "result_xyz = (v1 * u) + (v2 * v) + ((1 - (u + v)) * v3)\n",
    "starting_point = result_xyz.astype(np.float32)\n",
    "\n",
    "result[\"x\"] = starting_point[:, 0]\n",
    "result[\"y\"] = starting_point[:, 1]\n",
    "result[\"z\"] = starting_point[:, 2]"
   ]
  },
  {
   "cell_type": "code",
   "execution_count": 3,
   "metadata": {},
   "outputs": [
    {
     "name": "stdout",
     "output_type": "stream",
     "text": [
      "[[-30.847427  39.9457   -21.      ]]\n",
      "[ 31.75      40.972496 -21.      ]\n"
     ]
    }
   ],
   "source": [
    "print(starting_point)\n",
    "print(v1)"
   ]
  },
  {
   "cell_type": "code",
   "execution_count": 4,
   "metadata": {},
   "outputs": [
    {
     "name": "stdout",
     "output_type": "stream",
     "text": [
      "[62.597427   1.0267944  0.       ] [[-0.90257263 -0.97320557  0.        ]] [[-0.90257263  1.0267944   0.        ]] [0. 0. 0.]\n"
     ]
    }
   ],
   "source": [
    "# Translate face such that starting_point is the origin\n",
    "translation = starting_point\n",
    "v1,v2,v3,starting_point = [np.subtract(p, translation) for p in (v1,v2,v3,starting_point)] # make list or dict eventually\n",
    "\n",
    "print(v1[0],v2,v3,starting_point[0])"
   ]
  },
  {
   "cell_type": "code",
   "execution_count": 5,
   "metadata": {},
   "outputs": [
    {
     "name": "stdout",
     "output_type": "stream",
     "text": [
      "73.0\n",
      "(0.8694087134467231, 0.014261033799913194, 0.0)\n",
      "[-0.49035424  0.71807214  0.        ]\n"
     ]
    },
    {
     "name": "stderr",
     "output_type": "stream",
     "text": [
      "/Library/Frameworks/Python.framework/Versions/3.6/lib/python3.6/site-packages/ipykernel_launcher.py:23: DeprecationWarning: object of type <class 'numpy.float64'> cannot be safely interpreted as an integer.\n"
     ]
    }
   ],
   "source": [
    "r = 0.4\n",
    "\n",
    "#find angle to rotate by around the normal\n",
    "theta = np.random.uniform(0, 2*np.pi)\n",
    "theta = (theta * 180)/np.pi\n",
    "#find the point to rotate around the normal\n",
    "\n",
    "dist = np.linalg.norm(v1[0]-(starting_point[0]))\n",
    "if dist < r: \n",
    "    dist2 = np.linalg.norm(v2-(starting_point[0]))\n",
    "    dist3 = np.linalg.norm(v3-(starting_point[0]))\n",
    "    if max(dist2, dist3) < r:\n",
    "        raise ValueError(\"r value is too high or the face is too small. Generated points are outside the face\")\n",
    "    dist = max(dist2, dist3)\n",
    "    \n",
    "    \n",
    "rho = np.random.uniform(np.cbrt(r), np.cbrt(2*r))\n",
    "\n",
    "#print(rho)\n",
    "parts = (dist/rho) \n",
    "#print(np.ceil(parts))\n",
    "\n",
    "points = list(zip(np.linspace((starting_point[0])[0], v1[0][0], parts+1), np.linspace((starting_point[0])[1],v1[0][1], parts+1), np.linspace((starting_point[0])[2], v1[0][2], parts+1)))\n",
    "\n",
    "pre_rotation_point = points[1]   # finds a point rho distance from the starting point to then apply rotation\n",
    "\n",
    "\n",
    "\n",
    "AB = np.subtract(v2[0],v1[0])\n",
    "AC = np.subtract(v3[0],v1[0])\n",
    "\n",
    "\n",
    "normal = np.cross(AB, AC)\n",
    "#normal = preprocessing.normalize([normal], norm='l2')   #\n",
    "\n",
    "print(pre_rotation_point)\n",
    "new = vrotate(pre_rotation_point, theta, normal)\n",
    "print(new)\n",
    "print(is_on_face(new, v1[0], v2[0], v3[0]))"
   ]
  },
  {
   "cell_type": "code",
   "execution_count": 6,
   "metadata": {},
   "outputs": [],
   "source": [
    "#TODO: check if the new point is on the face\n",
    "def is_on_face(new,v1,v2,v3):\n",
    "    on_plane = False\n",
    "    if(np.dot((new-v1),normal) == 0):\n",
    "        on_plane = True\n",
    "        \n",
    "    x_min = v1[0]\n",
    "    x_max = v1[0]\n",
    "    y_min = v1[1]\n",
    "    y_max = v1[1]\n",
    "    z_min = v1[2]\n",
    "    z_max = v1[2]\n",
    "              \n",
    "    # find x_min/max and y_min/max  \n",
    "    for x,y,z in (v1, v2, v3):\n",
    "        if x > x_max:\n",
    "            x_max = x\n",
    "        if x < x_min:\n",
    "            x_min = x\n",
    "        if y > y_max:\n",
    "            y_max = y\n",
    "        if y < y_min:\n",
    "            y_min = y\n",
    "        if z > z_max:\n",
    "            z_max = z\n",
    "        if z < z_min:\n",
    "            z_min = z\n",
    "            \n",
    "    if ((x_min <= new[0] <= x_max) and (y_min <= new[1] <= y_max) and (z_min <= new[2] <= z_max)):\n",
    "        if on_plane:\n",
    "            return True\n",
    "    return False\n"
   ]
  }
 ],
 "metadata": {
  "kernelspec": {
   "display_name": "Python 3",
   "language": "python",
   "name": "python3"
  },
  "language_info": {
   "codemirror_mode": {
    "name": "ipython",
    "version": 3
   },
   "file_extension": ".py",
   "mimetype": "text/x-python",
   "name": "python",
   "nbconvert_exporter": "python",
   "pygments_lexer": "ipython3",
   "version": "3.6.3"
  }
 },
 "nbformat": 4,
 "nbformat_minor": 2
}
