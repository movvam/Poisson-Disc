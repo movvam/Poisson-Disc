{
 "cells": [
  {
   "cell_type": "code",
   "execution_count": 1,
   "metadata": {},
   "outputs": [],
   "source": [
    "from pyntcloud import PyntCloud\n",
    "from pyntcloud.geometry.areas import *\n",
    "\n",
    "import numpy as np\n",
    "import pandas as pd\n",
    "\n",
    "from rotations import *\n",
    "from sklearn import preprocessing"
   ]
  },
  {
   "cell_type": "code",
   "execution_count": 2,
   "metadata": {},
   "outputs": [],
   "source": [
    "\n",
    "def is_on_face(s,a,b,c):\n",
    "    # s is the new point\n",
    "    # function assumes the face has been transformed to the xy-plane\n",
    "    as_x = s[0]-a[0]\n",
    "    as_y = s[1]-a[1]\n",
    "\n",
    "    s_ab = (b[0]-a[0])*as_y-(b[1]-a[1])*as_x > 0;\n",
    "\n",
    "    if((c[0]-a[0])*as_y-(c[1]-a[1])*as_x > 0 == s_ab): \n",
    "        # is the point s to the left of or to the right of\n",
    "        # both the lines AB and AC? If true, it can't be inside.\n",
    "        print(\"not on face, case 1\")\n",
    "        return False\n",
    "\n",
    "    if((c[0]-b[0])*(s[1]-b[1])-(c[1]-b[1])*(s[0]-b[0]) > 0 != s_ab): \n",
    "        # the point is between the \"cones\"\n",
    "        # checking if point is outside the remaining boundary\n",
    "        print(\"not on face, case 2\")\n",
    "        return False\n",
    "\n",
    "    return True;\n"
   ]
  },
  {
   "cell_type": "code",
   "execution_count": 3,
   "metadata": {},
   "outputs": [],
   "source": [
    "\n",
    "#diamond = PyntCloud.from_file('cube.off')\n",
    "diamond = PyntCloud.from_file('bed_0001.off')\n",
    "\n",
    "v1, v2, v3 = diamond.get_mesh_vertices(False, False)\n",
    "\n",
    "v1_xyz = v1[:, :3]\n",
    "v2_xyz = v2[:, :3]\n",
    "v3_xyz = v3[:, :3]\n",
    "\n",
    "areas = triangle_area_multi(v1_xyz, v2_xyz, v3_xyz)\n",
    "probabilities = areas / np.sum(areas)\n",
    "\n",
    "v1 = v1_xyz[41] #Choosing an arbitrary face to test on\n",
    "v2 = v2_xyz[41]\n",
    "v3 = v3_xyz[41]\n",
    "\n",
    "#choosing a starting point on our face\n",
    "u = np.random.rand(1, 1)\n",
    "v = (np.random.rand(1, 1)) * (1-u)\n",
    "\n",
    "result = pd.DataFrame()\n",
    "\n",
    "result_xyz = (v1 * u) + (v2 * v) + ((1 - (u + v)) * v3)\n",
    "starting_point = result_xyz.astype(np.float32)\n",
    "\n",
    "result[\"x\"] = starting_point[:, 0]\n",
    "result[\"y\"] = starting_point[:, 1]\n",
    "result[\"z\"] = starting_point[:, 2]"
   ]
  },
  {
   "cell_type": "code",
   "execution_count": 4,
   "metadata": {},
   "outputs": [
    {
     "name": "stdout",
     "output_type": "stream",
     "text": [
      "[[0. 0. 0.]] [[-0.17630577 -0.36144638  0.        ]]\n"
     ]
    }
   ],
   "source": [
    "# Translate face such that starting_point is the origin\n",
    "translation = starting_point\n",
    "v1,v2,v3,starting_point = [np.subtract(p, translation) for p in (v1,v2,v3,starting_point)] # make list or dict eventually\n",
    "\n",
    "\n",
    "# rotate the face to become the xy-plane\n",
    "z_axis = (0.,0.,1.)\n",
    "AB = np.subtract(v2[0],v1[0])\n",
    "AC = np.subtract(v3[0],v1[0])\n",
    "\n",
    "normal = np.cross(AB, AC)\n",
    "\n",
    "\n",
    "\n",
    "rot_axis = np.cross(normal, z_axis)\n",
    "if (np.linalg.norm(rot_axis) != 0):    \n",
    "    angle = np.arccos(np.dot(normal,z_axis)/(np.linalg.norm(normal)*np.linalg.norm(z_axis)))\n",
    "    angle = np.rad2deg(angle)\n",
    "    v1,v2,v3 = [vrotate(p, angle, rot_axis) for p in (v1,v2,v3)] # make list or dict eventually\n",
    "\n",
    "    print(angle, v1,v2,v3,starting_point)\n",
    "print(starting_point, v1)"
   ]
  },
  {
   "cell_type": "code",
   "execution_count": 5,
   "metadata": {},
   "outputs": [
    {
     "name": "stdout",
     "output_type": "stream",
     "text": [
      "start [[0. 0. 0.]]\n",
      "(-0.09556253258657216, -0.1959137886105977, 0.0)\n",
      "new [0.16053396 0.14745595 0.        ]\n",
      "not on face, case 1\n",
      "on face: False\n"
     ]
    }
   ],
   "source": [
    "r = 0.04\n",
    "\n",
    "#find angle to rotate by around the normal\n",
    "theta = np.random.uniform(0, 2*np.pi)\n",
    "theta = np.rad2deg(theta)\n",
    "#find the point to rotate around the normal\n",
    "\n",
    "dist = np.linalg.norm(v1[0])\n",
    "if dist < r: \n",
    "    dist2 = np.linalg.norm(v2)\n",
    "    dist3 = np.linalg.norm(v3)\n",
    "    if max(dist2, dist3) < r:\n",
    "        raise ValueError(\"r value is too high or the face is too small. Generated points are outside the face\")\n",
    "    dist = max(dist2, dist3)\n",
    "    \n",
    "    \n",
    "rho = np.random.uniform(np.sqrt(r), np.sqrt(2*r))\n",
    "\n",
    "#print(rho)\n",
    "parts = (dist/rho) \n",
    "\n",
    "pre_rotation_point = ((v1[0][0]) * (1/parts), (v1[0][1]) * (1/parts), 0.)\n",
    "    \n",
    "    \n",
    "print(\"start\", starting_point)\n",
    "print(pre_rotation_point)\n",
    "new = vrotate(pre_rotation_point, theta, z_axis)\n",
    "print(\"new\", new)\n",
    "print(\"on face:\", is_on_face(new, v1[0], v2[0], v3[0]))"
   ]
  },
  {
   "cell_type": "code",
   "execution_count": 6,
   "metadata": {},
   "outputs": [
    {
     "name": "stdout",
     "output_type": "stream",
     "text": [
      "[[-0.17630577 -0.36144638  0.        ]] [[0.32369423 1.1385536  0.        ]] [[ 0.32369423 -0.36144638  0.        ]]\n"
     ]
    }
   ],
   "source": [
    "print(v1,v2,v3)"
   ]
  },
  {
   "cell_type": "code",
   "execution_count": null,
   "metadata": {},
   "outputs": [],
   "source": []
  }
 ],
 "metadata": {
  "kernelspec": {
   "display_name": "Python 3",
   "language": "python",
   "name": "python3"
  },
  "language_info": {
   "codemirror_mode": {
    "name": "ipython",
    "version": 3
   },
   "file_extension": ".py",
   "mimetype": "text/x-python",
   "name": "python",
   "nbconvert_exporter": "python",
   "pygments_lexer": "ipython3",
   "version": "3.6.3"
  }
 },
 "nbformat": 4,
 "nbformat_minor": 2
}
