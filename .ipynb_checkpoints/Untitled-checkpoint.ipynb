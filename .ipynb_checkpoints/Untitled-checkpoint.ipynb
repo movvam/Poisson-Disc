{
 "cells": [
  {
   "cell_type": "code",
   "execution_count": 1,
   "metadata": {},
   "outputs": [],
   "source": [
    "from pyntcloud import PyntCloud\n",
    "from pyntcloud.geometry.areas import *\n",
    "\n",
    "import numpy as np\n",
    "import pandas as pd\n",
    "\n",
    "from rotations import *\n",
    "from sklearn import preprocessing"
   ]
  },
  {
   "cell_type": "code",
   "execution_count": 2,
   "metadata": {},
   "outputs": [],
   "source": [
    "def find_width_height(v1,v2,v3):\n",
    "    ## width = max distance between 2 vertices height is \n",
    "    ## dist from the remaining vertex to the midpoint of the first two \n",
    "    cur = (v1,v2,v3)\n",
    "    if (np.linalg.norm(np.subtract(v1,v3)) > np.linalg.norm(np.subtract(v1,v2))):\n",
    "        cur = (v1, v3, v2)\n",
    "    if( np.linalg.norm(np.subtract(v2,v3)) > np.linalg.norm(np.subtract(cur[0],cur[1]))):\n",
    "        cur = (v2,v3, v1)\n",
    "        \n",
    "    width = np.linalg.norm(np.subtract(cur[0],cur[1]))\n",
    "    print(width)\n",
    "    print(cur[0],cur[1])\n",
    "    p1 = cur[0]\n",
    "    p2 = cur[1]\n",
    "    mid = list(zip(np.linspace(p1[0], p2[0], 3), np.linspace(p1[1], p2[1], 3), np.linspace(p1[2], p2[2], 3)))\n",
    "    print(mid[1])\n",
    "    height = np.linalg.norm(np.subtract(mid[1],cur[2]))\n",
    "    print(height)\n",
    "    \n",
    "    return width, height"
   ]
  },
  {
   "cell_type": "code",
   "execution_count": 3,
   "metadata": {},
   "outputs": [
    {
     "name": "stdout",
     "output_type": "stream",
     "text": [
      "63.531488254565545\n",
      "(8.237675, 0.21360016, 0.0) (-55.262325, -1.7863998, 0.0)\n",
      "(-23.512325, -0.78639982, 0.0)\n",
      "31.76574412728277\n"
     ]
    }
   ],
   "source": [
    "# Choose up to k points around each reference point as candidates for a new\n",
    "# sample point\n",
    "k = 30\n",
    "\n",
    "# Minimum distance between samples\n",
    "r = 0.04\n",
    "\n",
    "width, height = find_width_height((8.237675,0.21360016, 0.) ,(-55.262325,-1.7863998, 0.), (-55.262325, 0.21360016, 0.))\n",
    "\n",
    "# Cell side length\n",
    "a = r/np.sqrt(2)\n",
    "# Number of cells in the x- and y-directions of the grid\n",
    "nx, ny = int(width / a) + 1, int(height / a) + 1\n",
    "\n",
    "# A list of coordinates in the grid of cells\n",
    "coords_list = [(ix, iy) for ix in range(nx) for iy in range(ny)]\n",
    "# Initilalize the dictionary of cells: each key is a cell's coordinates, the\n",
    "# corresponding value is the index of that cell's point's coordinates in the\n",
    "# samples list (or None if the cell is empty).\n",
    "cells = {coords: None for coords in coords_list}\n",
    "\n",
    "def get_cell_coords(pt):\n",
    "    \"\"\"Get the coordinates of the cell that pt = (x,y) falls in.\"\"\"\n",
    "\n",
    "    return int(pt[0] // a), int(pt[1] // a)\n"
   ]
  },
  {
   "cell_type": "code",
   "execution_count": 17,
   "metadata": {},
   "outputs": [],
   "source": [
    "\n",
    "v1 = (1., 1., 0.)\n",
    "v2 = (0.,0.,1.)\n",
    "normal = np.cross(v1, v2)\n",
    "angle = np.arccos(np.dot(v1,v2)/(np.linalg.norm(v1)*np.linalg.norm(v2)))"
   ]
  },
  {
   "cell_type": "code",
   "execution_count": 20,
   "metadata": {},
   "outputs": [
    {
     "name": "stdout",
     "output_type": "stream",
     "text": [
      "[ 1. -1.  0.]\n",
      "90.0\n"
     ]
    }
   ],
   "source": [
    "print(normal)\n",
    "print(np.rad2deg(angle))"
   ]
  },
  {
   "cell_type": "code",
   "execution_count": null,
   "metadata": {},
   "outputs": [],
   "source": []
  }
 ],
 "metadata": {
  "kernelspec": {
   "display_name": "Python 3",
   "language": "python",
   "name": "python3"
  },
  "language_info": {
   "codemirror_mode": {
    "name": "ipython",
    "version": 3
   },
   "file_extension": ".py",
   "mimetype": "text/x-python",
   "name": "python",
   "nbconvert_exporter": "python",
   "pygments_lexer": "ipython3",
   "version": "3.6.3"
  }
 },
 "nbformat": 4,
 "nbformat_minor": 2
}
