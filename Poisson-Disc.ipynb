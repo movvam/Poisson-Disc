{
 "cells": [
  {
   "cell_type": "code",
   "execution_count": 1,
   "metadata": {},
   "outputs": [],
   "source": [
    "from pyntcloud import PyntCloud\n",
    "from pyntcloud.geometry.areas import *\n",
    "\n",
    "import numpy as np\n",
    "import pandas as pd\n",
    "\n",
    "from rotations import *\n",
    "from sklearn import preprocessing"
   ]
  },
  {
   "cell_type": "code",
   "execution_count": 2,
   "metadata": {},
   "outputs": [],
   "source": [
    "\n",
    "#diamond = PyntCloud.from_file('cube.off')\n",
    "diamond = PyntCloud.from_file('bed_0001.off')\n",
    "\n",
    "v1, v2, v3 = diamond.get_mesh_vertices(False, False)\n",
    "\n",
    "v1_xyz = v1[:, :3]\n",
    "v2_xyz = v2[:, :3]\n",
    "v3_xyz = v3[:, :3]\n",
    "\n",
    "areas = triangle_area_multi(v1_xyz, v2_xyz, v3_xyz)\n",
    "probabilities = areas / np.sum(areas)\n",
    "\n",
    "v1 = v1_xyz[4] #Choosing an arbitrary face to test on\n",
    "v2 = v2_xyz[4]\n",
    "v3 = v3_xyz[4]\n",
    "\n",
    "#choosing a starting point on our face\n",
    "u = np.random.rand(1, 1)\n",
    "v = (np.random.rand(1, 1)) * (1-u)\n",
    "\n",
    "result = pd.DataFrame()\n",
    "\n",
    "result_xyz = (v1 * u) + (v2 * v) + ((1 - (u + v)) * v3)\n",
    "starting_point = result_xyz.astype(np.float32)\n",
    "\n",
    "result[\"x\"] = starting_point[:, 0]\n",
    "result[\"y\"] = starting_point[:, 1]\n",
    "result[\"z\"] = starting_point[:, 2]"
   ]
  },
  {
   "cell_type": "code",
   "execution_count": 3,
   "metadata": {},
   "outputs": [
    {
     "name": "stdout",
     "output_type": "stream",
     "text": [
      "[[ -2.145118  39.936115 -21.      ]]\n",
      "[ 31.75      40.972496 -21.      ]\n"
     ]
    }
   ],
   "source": [
    "print(starting_point)\n",
    "print(v1)"
   ]
  },
  {
   "cell_type": "code",
   "execution_count": 4,
   "metadata": {},
   "outputs": [
    {
     "name": "stdout",
     "output_type": "stream",
     "text": [
      "[33.89512    1.0363808  0.       ] [[-29.604881    -0.96361923   0.        ]] [[-29.604881    1.0363808   0.       ]] [0. 0. 0.]\n"
     ]
    }
   ],
   "source": [
    "# Translate face such that starting_point is the origin\n",
    "translation = starting_point\n",
    "v1,v2,v3,starting_point = [np.subtract(p, translation) for p in (v1,v2,v3,starting_point)] # make list or dict eventually\n",
    "\n",
    "print(v1[0],v2,v3,starting_point[0])"
   ]
  },
  {
   "cell_type": "code",
   "execution_count": 5,
   "metadata": {},
   "outputs": [
    {
     "name": "stdout",
     "output_type": "stream",
     "text": [
      "(0.7532248602973091, 0.02303068372938368, 0.0)\n",
      "[ 0.38747509 -0.64632899  0.        ]\n"
     ]
    },
    {
     "name": "stderr",
     "output_type": "stream",
     "text": [
      "/Library/Frameworks/Python.framework/Versions/3.6/lib/python3.6/site-packages/ipykernel_launcher.py:14: DeprecationWarning: object of type <class 'numpy.float64'> cannot be safely interpreted as an integer.\n",
      "  \n"
     ]
    }
   ],
   "source": [
    "#find angle to rotate by around the normal\n",
    "theta = np.random.uniform(0, 2*np.pi)\n",
    "theta = (theta * 180)/np.pi\n",
    "#find the point to rotate around the normal\n",
    "dist = np.linalg.norm(v1-(starting_point[0]))\n",
    "#print(dist)\n",
    "\n",
    "r = 0.4\n",
    "rho = np.random.uniform(np.cbrt(r), np.cbrt(2*r))\n",
    "#print(rho)\n",
    "parts = (dist/rho) \n",
    "#print(np.ceil(parts))\n",
    "\n",
    "points = list(zip(np.linspace((starting_point[0])[0], v1[0][0], parts+1), np.linspace((starting_point[0])[1],v1[0][1], parts+1), np.linspace((starting_point[0])[2], v1[0][2], parts+1)))\n",
    "\n",
    "pre_rotation_point = points[1]   # finds a point rho distance from the starting point to then apply rotation\n",
    "\n",
    "\n",
    "\n",
    "AB = np.subtract(v2[0],v1[0])\n",
    "AC = np.subtract(v3[0],v1[0])\n",
    "\n",
    "\n",
    "normal = np.cross(AB, AC)\n",
    "#normal = preprocessing.normalize([normal], norm='l2')   #\n",
    "\n",
    "print(pre_rotation_point)\n",
    "new = vrotate(pre_rotation_point, theta, normal)\n",
    "print(new)"
   ]
  },
  {
   "cell_type": "code",
   "execution_count": null,
   "metadata": {},
   "outputs": [],
   "source": [
    "#TODO: check if the new point is on the face"
   ]
  },
  {
   "cell_type": "code",
   "execution_count": null,
   "metadata": {},
   "outputs": [],
   "source": []
  }
 ],
 "metadata": {
  "kernelspec": {
   "display_name": "Python 3",
   "language": "python",
   "name": "python3"
  },
  "language_info": {
   "codemirror_mode": {
    "name": "ipython",
    "version": 3
   },
   "file_extension": ".py",
   "mimetype": "text/x-python",
   "name": "python",
   "nbconvert_exporter": "python",
   "pygments_lexer": "ipython3",
   "version": "3.6.3"
  }
 },
 "nbformat": 4,
 "nbformat_minor": 2
}
