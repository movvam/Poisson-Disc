{
 "cells": [
  {
   "cell_type": "code",
   "execution_count": 1,
   "metadata": {},
   "outputs": [],
   "source": [
    "from pyntcloud import PyntCloud\n",
    "from pyntcloud.geometry.areas import *\n",
    "\n",
    "import numpy as np\n",
    "import pandas as pd\n",
    "\n",
    "from rotations import *\n",
    "from sklearn import preprocessing"
   ]
  },
  {
   "cell_type": "code",
   "execution_count": 2,
   "metadata": {},
   "outputs": [],
   "source": [
    "def find_width_height(v1,v2,v3):\n",
    "    x_min = v1[0]\n",
    "    x_max = v1[0]\n",
    "    y_min = v1[1]\n",
    "    y_max = v1[1]\n",
    "              \n",
    "    # find x_min/max and y_min/max  \n",
    "    for x,y,z in (v1, v2, v3):\n",
    "        if x > x_max:\n",
    "            x_max = x\n",
    "        if x < x_min:\n",
    "            x_min = x\n",
    "        if y > y_max:\n",
    "            y_max = y\n",
    "        if y < y_min:\n",
    "            y_min = y\n",
    "            \n",
    "    width = (x_max-x_min)\n",
    "    height = (y_max-y_min)\n",
    "    return width, height"
   ]
  },
  {
   "cell_type": "code",
   "execution_count": 3,
   "metadata": {},
   "outputs": [],
   "source": [
    "# Choose up to k points around each reference point as candidates for a new\n",
    "# sample point\n",
    "k = 30\n",
    "\n",
    "# Minimum distance between samples\n",
    "r = 0.04\n",
    "\n",
    "width, height = find_width_height((8.237675,0.21360016, 0.) ,(-55.262325,-1.7863998, 0.), (-55.262325, 0.21360016, 0.))\n",
    "\n",
    "# Cell side length\n",
    "a = r/np.sqrt(2)\n",
    "# Number of cells in the x- and y-directions of the grid\n",
    "nx, ny = int(width / a) + 1, int(height / a) + 1\n",
    "\n",
    "# A list of coordinates in the grid of cells\n",
    "coords_list = [(ix, iy) for ix in range(nx) for iy in range(ny)]\n",
    "# Initilalize the dictionary of cells: each key is a cell's coordinates, the\n",
    "# corresponding value is the index of that cell's point's coordinates in the\n",
    "# samples list (or None if the cell is empty).\n",
    "cells = {coords: None for coords in coords_list}\n",
    "\n",
    "def get_cell_coords(pt):\n",
    "    \"\"\"Get the coordinates of the cell that pt = (x,y) falls in.\"\"\"\n",
    "\n",
    "    return int(pt[0] // a), int(pt[1] // a)\n"
   ]
  },
  {
   "cell_type": "code",
   "execution_count": 4,
   "metadata": {},
   "outputs": [],
   "source": [
    "\n",
    "v1 = (1., 1., 0.)\n",
    "v2 = (0.,0.,1.)\n",
    "normal = np.cross(v1, v2)\n",
    "angle = np.arccos(np.dot(v1,v2)/(np.linalg.norm(v1)*np.linalg.norm(v2)))"
   ]
  },
  {
   "cell_type": "code",
   "execution_count": 5,
   "metadata": {},
   "outputs": [
    {
     "name": "stdout",
     "output_type": "stream",
     "text": [
      "[ 1. -1.  0.]\n",
      "90.0\n"
     ]
    }
   ],
   "source": [
    "print(normal)\n",
    "print(np.rad2deg(angle))"
   ]
  },
  {
   "cell_type": "code",
   "execution_count": 6,
   "metadata": {},
   "outputs": [
    {
     "name": "stdout",
     "output_type": "stream",
     "text": [
      "63.5 1.99999996\n"
     ]
    }
   ],
   "source": [
    "print(width, height)"
   ]
  },
  {
   "cell_type": "code",
   "execution_count": null,
   "metadata": {},
   "outputs": [],
   "source": []
  }
 ],
 "metadata": {
  "kernelspec": {
   "display_name": "Python 3",
   "language": "python",
   "name": "python3"
  },
  "language_info": {
   "codemirror_mode": {
    "name": "ipython",
    "version": 3
   },
   "file_extension": ".py",
   "mimetype": "text/x-python",
   "name": "python",
   "nbconvert_exporter": "python",
   "pygments_lexer": "ipython3",
   "version": "3.6.3"
  }
 },
 "nbformat": 4,
 "nbformat_minor": 2
}
