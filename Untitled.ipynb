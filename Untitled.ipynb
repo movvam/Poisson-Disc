{
 "cells": [
  {
   "cell_type": "code",
   "execution_count": 1,
   "metadata": {},
   "outputs": [],
   "source": [
    "from pyntcloud import PyntCloud\n",
    "from pyntcloud.geometry.areas import *\n",
    "\n",
    "import numpy as np\n",
    "import pandas as pd\n",
    "\n",
    "from rotations import *\n",
    "from sklearn import preprocessing"
   ]
  },
  {
   "cell_type": "code",
   "execution_count": 2,
   "metadata": {},
   "outputs": [],
   "source": [
    "\n",
    "#diamond = PyntCloud.from_file('cube.off')\n",
    "diamond = PyntCloud.from_file('bed_0001.off')\n",
    "\n",
    "v1, v2, v3 = diamond.get_mesh_vertices(\n",
    "            False, False)\n",
    "\n",
    "v1_xyz = v1[:, :3]\n",
    "v2_xyz = v2[:, :3]\n",
    "v3_xyz = v3[:, :3]\n",
    "\n",
    "areas = triangle_area_multi(v1_xyz, v2_xyz, v3_xyz)\n",
    "probabilities = areas / np.sum(areas)\n",
    "\n",
    "v1 = v1_xyz[4] #Choosing an arbitrary face to test on\n",
    "v2 = v2_xyz[4]\n",
    "v3 = v3_xyz[4]\n",
    "\n",
    "#choosing a starting point on our face\n",
    "u = np.random.rand(1, 1)\n",
    "v = (np.random.rand(1, 1)) * (1-u)\n",
    "\n",
    "result = pd.DataFrame()\n",
    "\n",
    "result_xyz = (v1 * u) + (v2 * v) + ((1 - (u + v)) * v3)\n",
    "starting_point = result_xyz.astype(np.float32)\n",
    "\n",
    "result[\"x\"] = starting_point[:, 0]\n",
    "result[\"y\"] = starting_point[:, 1]\n",
    "result[\"z\"] = starting_point[:, 2]"
   ]
  },
  {
   "cell_type": "code",
   "execution_count": 3,
   "metadata": {},
   "outputs": [
    {
     "name": "stdout",
     "output_type": "stream",
     "text": [
      "[[ 23.784359  40.88001  -21.      ]]\n"
     ]
    }
   ],
   "source": [
    "print(starting_point)"
   ]
  },
  {
   "cell_type": "code",
   "execution_count": 4,
   "metadata": {},
   "outputs": [],
   "source": [
    "# Translate face such that resul"
   ]
  }
 ],
 "metadata": {
  "kernelspec": {
   "display_name": "Python 3",
   "language": "python",
   "name": "python3"
  },
  "language_info": {
   "codemirror_mode": {
    "name": "ipython",
    "version": 3
   },
   "file_extension": ".py",
   "mimetype": "text/x-python",
   "name": "python",
   "nbconvert_exporter": "python",
   "pygments_lexer": "ipython3",
   "version": "3.6.3"
  }
 },
 "nbformat": 4,
 "nbformat_minor": 2
}
